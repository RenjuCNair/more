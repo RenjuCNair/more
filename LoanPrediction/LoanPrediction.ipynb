#load packages and set file paths.
import pandas as pd
import numpy as np
import matplotlib.pyplot as plt
import seaborn as sns

%matplotlib inline


train = pd.read_csv(train_loc)
test = pd.read_csv(test_loc)
data = pd.concat([train,test])

print (train.shape, test.shape, data.shape)
