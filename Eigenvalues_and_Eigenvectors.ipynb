{
  "nbformat": 4,
  "nbformat_minor": 0,
  "metadata": {
    "colab": {
      "name": "Eigenvalues-and-Eigenvectors.ipynb",
      "provenance": [],
      "authorship_tag": "ABX9TyNg3yr38RyySHub9deCXL+4"
    },
    "kernelspec": {
      "name": "python3",
      "display_name": "Python 3"
    },
    "language_info": {
      "name": "python"
    }
  },
  "cells": [
    {
      "cell_type": "markdown",
      "source": [
        "# Eigenvalues-and-Eigenvectors\n",
        "\n",
        "---\n",
        "\n"
      ],
      "metadata": {
        "id": "wzdWjBknvqIe"
      }
    },
    {
      "cell_type": "markdown",
      "source": [
        "What is Eigenvalues and Eigenvectors?\n",
        "\n",
        "\n",
        "---\n",
        "Eigenvectors are unit vectors with length/magnitude is equal to 1. These are special vectors , given a transformation matrix M.\n",
        "\n",
        "Eigenvalues are coefficients applied to eigenvectors that give the vectors their length or magnitude.\n",
        "\n",
        "Ref: https://www.mathsisfun.com/algebra/eigenvalue.html\n",
        "\n"
      ],
      "metadata": {
        "id": "x483NJjyv5ui"
      }
    },
    {
      "cell_type": "code",
      "source": [
        "import matplotlib.pyplot as plt\n",
        "import numpy as np\n",
        "from numpy import ma"
      ],
      "metadata": {
        "id": "DxNjIRvn1KHx"
      },
      "execution_count": 23,
      "outputs": []
    },
    {
      "cell_type": "code",
      "execution_count": 24,
      "metadata": {
        "colab": {
          "base_uri": "https://localhost:8080/",
          "height": 374
        },
        "id": "NAZtrwLsvlnp",
        "outputId": "acd5c1c2-cd57-4dbe-83af-394056badc0d"
      },
      "outputs": [
        {
          "output_type": "display_data",
          "data": {
            "image/png": "[encoded data removed]",
            "text/plain": [
              "<Figure size 432x432 with 1 Axes>"
            ]
          },
          "metadata": {
            "needs_background": "light"
          }
        }
      ],
      "source": [
        "# Base vector\n",
        "v = [2,4]\n",
        "fig = plt.figure(figsize=(6,6))\n",
        "ax = fig.add_subplot(1,1,1)\n",
        "ticks = np.arange(-6,6,1)\n",
        "ax.set_xticks(ticks)\n",
        "ax.set_yticks(ticks)\n",
        "plt.quiver(0,0,v[0],v[1],angles='xy',scale_units='xy',scale=1,color='r')\n",
        "plt.xlim(-6,6)\n",
        "plt.ylim(-6,6)\n",
        "plt.grid(which=\"both\")\n",
        "plt.show()"
      ]
    },
    {
      "cell_type": "markdown",
      "source": [
        "**Transformation of a vector**\n",
        "\n",
        "\n",
        "---\n",
        "\n"
      ],
      "metadata": {
        "id": "7SDN8yUa0hlP"
      }
    },
    {
      "cell_type": "code",
      "source": [
        "#Scaling of the vector\n",
        "M = np.array([[2,0],[0,2]])\n",
        "vT = M.dot(v)\n",
        "#print(vT)\n",
        "\n",
        "fig = plt.figure(figsize=(8,8))\n",
        "ax = fig.add_subplot(1,1,1)\n",
        "ticks = np.arange(-8,8,1)\n",
        "ax.set_xticks(ticks)\n",
        "ax.set_yticks(ticks)\n",
        "plt.quiver(0,0,v[0],v[1],angles='xy',scale_units='xy',scale=1,color='r')\n",
        "plt.quiver(0,0,vT[0],vT[1],angles='xy',scale_units='xy',scale=1,color='b')\n",
        "plt.xlim(-8,8)\n",
        "plt.ylim(-8,8)\n",
        "plt.grid(which=\"both\")\n",
        "plt.show()\n"
      ],
      "metadata": {
        "colab": {
          "base_uri": "https://localhost:8080/",
          "height": 483
        },
        "id": "rruJ9bmF0maW",
        "outputId": "ac36345d-ed86-4570-94d8-c4451d53376a"
      },
      "execution_count": 25,
      "outputs": [
        {
          "output_type": "display_data",
          "data": {
            "image/png": "[encoded data removed]",
            "text/plain": [
              "<Figure size 576x576 with 1 Axes>"
            ]
          },
          "metadata": {
            "needs_background": "light"
          }
        }
      ]
    },
    {
      "cell_type": "markdown",
      "source": [
        "**After translation** \n",
        "\n",
        "\n",
        "---\n",
        "\n"
      ],
      "metadata": {
        "id": "eZkF9UTz3XVe"
      }
    },
    {
      "cell_type": "code",
      "source": [
        "#Translation \n",
        "vD = [2,4,1] # Higher diamention vector\n",
        "MD = np.array([[1,0,2],[0,1,0],[0,0,1]])\n",
        "vDT = MD.dot(vD)[0:2]\n",
        "#print(vDT)\n",
        "\n",
        "plt.quiver(0,0,v[0],v[1],angles='xy',scale_units='xy',scale=1,color='r')\n",
        "plt.quiver(0,0,vDT[0],vDT[1],angles='xy',scale_units='xy',scale=1,color='b')\n",
        "plt.xlim(-8,8)\n",
        "plt.ylim(-8,8)\n",
        "plt.grid(which=\"both\")\n",
        "plt.show()"
      ],
      "metadata": {
        "colab": {
          "base_uri": "https://localhost:8080/",
          "height": 269
        },
        "id": "KqdafPcQ3YAi",
        "outputId": "a49c316d-bdbf-4875-fe80-35cc555b2248"
      },
      "execution_count": 26,
      "outputs": [
        {
          "output_type": "display_data",
          "data": {
            "image/png": "[encoded data removed]",
            "text/plain": [
              "<Figure size 432x288 with 1 Axes>"
            ]
          },
          "metadata": {
            "needs_background": "light"
          }
        }
      ]
    },
    {
      "cell_type": "markdown",
      "source": [
        "**After Rotation**\n",
        "\n",
        "\n",
        "---\n",
        "\n"
      ],
      "metadata": {
        "id": "d-fOnox17HVY"
      }
    },
    {
      "cell_type": "code",
      "source": [
        "ang = 100 * np.pi /180.0\n",
        "MR = np.array([[np.cos(ang),-np.sin(ang)],[np.sin(ang),np.cos(ang)]])\n",
        "#print(M)\n",
        "vR = MR.dot(vDT)\n",
        "\n",
        "plt.quiver(0,0,vDT[0],vDT[1],angles='xy',scale_units='xy',scale=1,color='r')\n",
        "plt.quiver(0,0,vR[0],vR[1],angles='xy',scale_units='xy',scale=1,color='b')\n",
        "plt.xlim(-8,8)\n",
        "plt.ylim(-8,8)\n",
        "plt.grid(which=\"both\")\n",
        "plt.show()"
      ],
      "metadata": {
        "colab": {
          "base_uri": "https://localhost:8080/",
          "height": 269
        },
        "id": "pU0OuDq07RJr",
        "outputId": "6b2f9fdb-ae7d-4519-debb-14527abb04b4"
      },
      "execution_count": 30,
      "outputs": [
        {
          "output_type": "display_data",
          "data": {
            "image/png": "[encoded data removed]",
            "text/plain": [
              "<Figure size 432x288 with 1 Axes>"
            ]
          },
          "metadata": {
            "needs_background": "light"
          }
        }
      ]
    },
    {
      "cell_type": "markdown",
      "source": [
        "**Random linear transformation matrix**\n",
        "\n",
        "\n",
        "---\n",
        "\n"
      ],
      "metadata": {
        "id": "-b8bxggg-gGb"
      }
    },
    {
      "cell_type": "code",
      "source": [
        "M = np.array([[5,2],[3,4]])\n",
        "v = np.array([1,-2])\n",
        "spv1 = np.array([1,1]) # Special vector 1\n",
        "spv2 = np.array([2,-3]) # special vector 2\n",
        "vT = M.dot(v)\n",
        "print(vT)\n",
        "plt.quiver(0,0,v[0],v[1],angles='xy',scale_units='xy',scale=1,color='r')\n",
        "plt.quiver(0,0,vT[0],vT[1],angles='xy',scale_units='xy',scale=1,color='b')\n",
        "plt.xlim(-8,8)\n",
        "plt.ylim(-8,8)\n",
        "plt.grid(which=\"both\")\n",
        "plt.show()"
      ],
      "metadata": {
        "colab": {
          "base_uri": "https://localhost:8080/",
          "height": 286
        },
        "id": "cC2qI6Qe-s8u",
        "outputId": "9278d23d-5b1f-4ae8-aa81-ef0376ac4679"
      },
      "execution_count": 56,
      "outputs": [
        {
          "output_type": "stream",
          "name": "stdout",
          "text": [
            "[ 1 -5]\n"
          ]
        },
        {
          "output_type": "display_data",
          "data": {
            "image/png": "[encoded data removed]",
            "text/plain": [
              "<Figure size 432x288 with 1 Axes>"
            ]
          },
          "metadata": {
            "needs_background": "light"
          }
        }
      ]
    },
    {
      "cell_type": "markdown",
      "source": [
        ""
      ],
      "metadata": {
        "id": "m7Nq7eeI__re"
      }
    },
    {
      "cell_type": "code",
      "source": [
        "vs1T = M.dot(spv1)\n",
        "plt.quiver(0,0,spv1[0],spv1[1],angles='xy',scale_units='xy',scale=1,color='r')\n",
        "plt.quiver(0,0,vs1T[0],vs1T[1],angles='xy',scale_units='xy',scale=1,color='b')\n",
        "plt.xlim(-8,8)\n",
        "plt.ylim(-8,8)\n",
        "plt.grid(which=\"both\")\n",
        "plt.show()"
      ],
      "metadata": {
        "colab": {
          "base_uri": "https://localhost:8080/",
          "height": 269
        },
        "id": "_kwfg-81AALf",
        "outputId": "58935cf3-1b1e-4f8e-df38-1f19b5765bcc"
      },
      "execution_count": 33,
      "outputs": [
        {
          "output_type": "display_data",
          "data": {
            "image/png": "[encoded data removed]",
            "text/plain": [
              "<Figure size 432x288 with 1 Axes>"
            ]
          },
          "metadata": {
            "needs_background": "light"
          }
        }
      ]
    },
    {
      "cell_type": "markdown",
      "source": [
        ""
      ],
      "metadata": {
        "id": "wNFQVyXHA0qy"
      }
    },
    {
      "cell_type": "code",
      "source": [
        "vs2T = M.dot(spv2)\n",
        "plt.quiver(0,0,spv2[0],spv2[1],angles='xy',scale_units='xy',scale=1,color='r')\n",
        "plt.quiver(0,0,vs2T[0],vs2T[1],angles='xy',scale_units='xy',scale=1,color='b')\n",
        "plt.xlim(-8,8)\n",
        "plt.ylim(-8,8)\n",
        "plt.grid(which=\"both\")\n",
        "plt.show()"
      ],
      "metadata": {
        "colab": {
          "base_uri": "https://localhost:8080/",
          "height": 269
        },
        "id": "3smed59eA1L4",
        "outputId": "a3d88ca5-f997-4620-ce46-767a26812896"
      },
      "execution_count": 34,
      "outputs": [
        {
          "output_type": "display_data",
          "data": {
            "image/png": "[encoded data removed]",
            "text/plain": [
              "<Figure size 432x288 with 1 Axes>"
            ]
          },
          "metadata": {
            "needs_background": "light"
          }
        }
      ]
    },
    {
      "cell_type": "markdown",
      "source": [
        "Recontructing vector based on special vectors"
      ],
      "metadata": {
        "id": "Az77HO_gBbnw"
      }
    },
    {
      "cell_type": "code",
      "source": [
        "v2 = (-1.0/5.0)*spv1 + (3.0/5.0)*spv2\n",
        "print(v2)\n",
        "vT = M.dot(v2)\n",
        "print(vT)\n",
        "plt.quiver(0,0,v2[0],v2[1],angles='xy',scale_units='xy',scale=1,color='r')\n",
        "plt.quiver(0,0,vT[0],vT[1],angles='xy',scale_units='xy',scale=1,color='b')\n",
        "plt.xlim(-8,8)\n",
        "plt.ylim(-8,8)\n",
        "plt.grid(which=\"both\")\n",
        "plt.show()"
      ],
      "metadata": {
        "colab": {
          "base_uri": "https://localhost:8080/",
          "height": 304
        },
        "id": "nn3OV1iCBcKk",
        "outputId": "2e7ea035-9b25-4b7e-9ac5-9f4f7351e979"
      },
      "execution_count": 55,
      "outputs": [
        {
          "output_type": "stream",
          "name": "stdout",
          "text": [
            "[ 1. -2.]\n",
            "[ 1. -5.]\n"
          ]
        },
        {
          "output_type": "display_data",
          "data": {
            "image/png": "[encoded data removed]",
            "text/plain": [
              "<Figure size 432x288 with 1 Axes>"
            ]
          },
          "metadata": {
            "needs_background": "light"
          }
        }
      ]
    },
    {
      "cell_type": "markdown",
      "source": [
        "Calculating Eigen values and Eigen vectors with numpy linear algebra API"
      ],
      "metadata": {
        "id": "eUu3Eez2CCjc"
      }
    },
    {
      "cell_type": "code",
      "source": [
        "from numpy import linalg as LA\n",
        "lam,vec = LA.eig(M)\n",
        "\n",
        "print(\"M = \",M)\n",
        "u = vec[:,1]\n",
        "\n",
        "print(\"u= \",u)\n",
        "lam1 = lam[1]\n",
        "print(\"lam1 =\",lam1)\n",
        "print(\"   M.u= \",np.dot(M,u))\n",
        "print(\"lam1.u= \",lam1*u)"
      ],
      "metadata": {
        "colab": {
          "base_uri": "https://localhost:8080/"
        },
        "id": "LyqGZlOmCC4T",
        "outputId": "a858870b-c5f2-41de-b07b-f1fe822becc3"
      },
      "execution_count": 64,
      "outputs": [
        {
          "output_type": "stream",
          "name": "stdout",
          "text": [
            "M =  [[5 2]\n",
            " [3 4]]\n",
            "u=  [-0.5547002   0.83205029]\n",
            "lam1 = 2.0\n",
            "   M.u=  [-1.10940039  1.66410059]\n",
            "lam1.u=  [-1.10940039  1.66410059]\n"
          ]
        }
      ]
    },
    {
      "cell_type": "code",
      "source": [
        "from numpy.linalg import inv\n",
        "\n",
        "# create inverse of eigenvectors matrix\n",
        "R = inv(vec)\n",
        "# create diagonal matrix from eigenvalues\n",
        "L = np.diag(lam)\n",
        "# reconstruct the original matrix\n",
        "B = vec.dot(L).dot(R)\n",
        "print(\"B =\",B)\n",
        "print(\"M =\",M)\n"
      ],
      "metadata": {
        "colab": {
          "base_uri": "https://localhost:8080/"
        },
        "id": "so_YYcemSrR9",
        "outputId": "57acb886-9179-42f4-c856-cb6ddd2f82b8"
      },
      "execution_count": 62,
      "outputs": [
        {
          "output_type": "stream",
          "name": "stdout",
          "text": [
            "B = [[5. 2.]\n",
            " [3. 4.]]\n",
            "M = [[5 2]\n",
            " [3 4]]\n"
          ]
        }
      ]
    }
  ]
}